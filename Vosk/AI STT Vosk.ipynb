{
 "cells": [
  {
   "cell_type": "markdown",
   "metadata": {},
   "source": [
    "# Introduction\n",
    "The goal of this file is to test the implementation of the Speech-to-Text (STT) AI.\n",
    "\n",
    "\n",
    "# 1 - Load models, modules and variables"
   ]
  },
  {
   "cell_type": "code",
   "execution_count": 1,
   "metadata": {},
   "outputs": [],
   "source": [
    "#!/usr/bin/env python3\n",
    "from vosk import Model, KaldiRecognizer, SetLogLevel\n",
    "import sys\n",
    "import os\n",
    "import wave\n",
    "import subprocess\n",
    "import mutagen\n",
    "import json\n",
    "from mutagen.mp3 import MP3\n",
    "from mutagen.wave import WAVE"
   ]
  },
  {
   "cell_type": "code",
   "execution_count": 2,
   "metadata": {},
   "outputs": [],
   "source": [
    "# # ### Install modules for jupyter notebook\n",
    "# !{sys.executable} -m pip --version\n",
    "# print(sys.executable)\n",
    "# {sys.executable} -m pip install srt"
   ]
  },
  {
   "cell_type": "code",
   "execution_count": 3,
   "metadata": {},
   "outputs": [],
   "source": [
    "sys.path.insert(0, os.path.abspath('..'))\n",
    "home_dir = os.getcwd()\n",
    "model = Model(home_dir + \"/Vosk_Models/model\")\n",
    "#Download ffmpeg here: https://ffmpeg.org/download.html and set the path\n",
    "FFMPEG_PATH = home_dir + \"/win32-x64/ffmpeg.exe\"\n",
    "sample_rate = 48000\n",
    "rec = KaldiRecognizer(model, sample_rate)"
   ]
  },
  {
   "cell_type": "markdown",
   "metadata": {},
   "source": [
    "# 2 - Get the audios and the audio's informations"
   ]
  },
  {
   "cell_type": "code",
   "execution_count": 4,
   "metadata": {},
   "outputs": [
    {
     "name": "stdout",
     "output_type": "stream",
     "text": [
      "audios:  ['audio_interview.wav', 'python_example_test.wav']\n"
     ]
    }
   ],
   "source": [
    "# get audios\n",
    "audio_paths = []\n",
    "audio_dir = [f.lower() for f in os.listdir(home_dir+\"/audios\")]\n",
    "audio_dir = sorted(audio_dir)\n",
    "for file in audio_dir:\n",
    "    if file[0] != '.' and \".mp3\" or \".wav\" in file:\n",
    "        audio_paths.append(file)\n",
    "print(\"audios: \", audio_paths)"
   ]
  },
  {
   "cell_type": "code",
   "execution_count": 5,
   "metadata": {
    "scrolled": true
   },
   "outputs": [
    {
     "name": "stdout",
     "output_type": "stream",
     "text": [
      "Total Duration: 0:3:56\n",
      "Frame rate:  48000 , channels count:  1\n"
     ]
    },
    {
     "data": {
      "text/plain": [
       "(48000, 1)"
      ]
     },
     "execution_count": 5,
     "metadata": {},
     "output_type": "execute_result"
    }
   ],
   "source": [
    "# function to convert the information into \n",
    "# some readable format\n",
    "def audio_duration(audio):\n",
    "    a = WAVE(audio)\n",
    "    audio_info = a.info\n",
    "    og_length = int(audio_info.length)\n",
    "    hours = og_length // 3600  # calculate in hours\n",
    "    length = og_length % 3600\n",
    "    mins = og_length // 60  # calculate in minutes\n",
    "    length = og_length % 60\n",
    "    seconds = length  # calculate in seconds\n",
    "    print('Total Duration: {}:{}:{}'.format(hours, mins, seconds))  \n",
    "    return og_length  # returns the duration in total seconds\n",
    "\n",
    "def frame_rate_channel(audio_file_name):\n",
    "    with wave.open(audio_file_name, \"rb\") as wave_file:\n",
    "        frame_rate = wave_file.getframerate()\n",
    "        channels = wave_file.getnchannels()\n",
    "        print('Frame rate: ', frame_rate, ', channels count: ', channels)\n",
    "        return frame_rate,channels\n",
    "\n",
    "audio_duration(home_dir + \"/audios/\" + \"audio_interview.wav\")\n",
    "frame_rate_channel(home_dir + \"/audios/\" + \"audio_interview.wav\")"
   ]
  },
  {
   "cell_type": "markdown",
   "metadata": {},
   "source": [
    "# 3 - Transcribe the audio"
   ]
  },
  {
   "cell_type": "code",
   "execution_count": 6,
   "metadata": {},
   "outputs": [],
   "source": [
    "def transcription_vosk(audio_uri):\n",
    "    file_name = audio_uri.split('/')\n",
    "    wav_name = file_name[-1].split('.')\n",
    "\n",
    "    process = subprocess.Popen(['ffmpeg', '-loglevel', 'quiet', '-i',\n",
    "                                    audio_uri,\n",
    "                                    '-ar', str(sample_rate), '-ac', '1', '-f', 's16le', '-'],\n",
    "                                   stdout=subprocess.PIPE)\n",
    "\n",
    "    listSentences = []\n",
    "    while True:\n",
    "        data = process.stdout.read(4000)\n",
    "        if len(data) == 0:\n",
    "            break\n",
    "        if rec.AcceptWaveform(data):\n",
    "            res = json.loads(rec.Result())\n",
    "            listSentences.append(res['text'])\n",
    "#             newRes = {}\n",
    "#             if res['text'] != \"\":\n",
    "#                 newRes['segments'] = []\n",
    "#                 prob = 0\n",
    "#                 i = 1\n",
    "#                 for segment in res['result']:\n",
    "#                     prob += segment[\"conf\"]\n",
    "#                     i += 1\n",
    "#                     newRes['segments'].append({\n",
    "#                         \"start_time\": segment[\"start\"],\n",
    "#                         \"probability\": segment[\"conf\"],\n",
    "#                             \"length\": segment[\"end\"] - segment[\"start\"],\n",
    "#                             \"text\": segment[\"word\"]})\n",
    "\n",
    "#                     newRes['probability'] = prob / i\n",
    "#                     listSentences.append([newRes])\n",
    "\n",
    "    return listSentences"
   ]
  },
  {
   "cell_type": "code",
   "execution_count": 7,
   "metadata": {},
   "outputs": [
    {
     "data": {
      "text/plain": [
       "[\"on associe le son avec l'image\",\n",
       " 'non',\n",
       " 'beaucoup de petits soucis',\n",
       " 'la balle elle gêne pas derrière la mort parce que on entend comme julien',\n",
       " 'comment',\n",
       " \"ah oui ah oui c'est silencieux\",\n",
       " 'du coup on a essayé',\n",
       " 'hum bon entend pas vous êtes au quand même là bas',\n",
       " 'pour plus de bêtises',\n",
       " 'bah ouais',\n",
       " 'déjà euh',\n",
       " 'bon le',\n",
       " \"le groupe va bien on reste soudé parce que malgré tout c'est pas une défaite qui nous a fait baisser la tête c'est euh c'était un match compliqué on savait que ça allait être compliqué mais euh le groupe est soudé on est unis e on prend match après match et on se relève\",\n",
       " 'toute la tête pour eux pour samedi quoi',\n",
       " 'la copie tout',\n",
       " '',\n",
       " \"oui c'est en fait de meilleur match maintenant par rapport à avant parce que ben on est plus dynamique on pense qu on a repris un peu du poil de la bête en bas on est déterminés et euh donc euh nos prestations sont plus que positive malgré malheureusement la défaite on a une éval qui\",\n",
       " 'supérieur à strasbourg samedi dernier donc euh ça prouve quand même que hum on est là quoi',\n",
       " 'pour qui',\n",
       " \"ouais c'est compliqué\",\n",
       " 'match',\n",
       " \"alors à strasbourg pas forcément plutôt contente de revoir certaines personnes après moi il restait juste louise d'embarras avec qui j ai joué donc euh ça fait pas forcément bizarre\",\n",
       " \"après montbrison oui à une certaine pression mais j'essaye de la transformer en pression positive\",\n",
       " \"eux et eux aussi de bain forcément de mener de d'encourager des filles pour que on gagne ce match est prouver aussi que si je suis parti c'est que j'évolue et que voilà bien une certaine fierté aussi qui sait que du positif pour moi de rencontrer des équipes que j ai à laquelle j'y ai joué\",\n",
       " 'capitaine de la transition du capitaine',\n",
       " 'ah oui',\n",
       " \"franchement en fait je j'ai pas fort j'ai était très fier de de d'être capitaine après je je ne me suis pas mis moi-même dans les bonnes conditions je pense j'y étais pas encore apte à l'être autant psychologiquement que associé e la gestion de l'équipe elle a ma gestion du jeu à moi personnel\",\n",
       " \"et euh est en fait du coup de d'être venu ici c'est moins de pression je joue plus libérés sans penser à fin je j j ai impression m g là où la pardon\",\n",
       " \"j'ai l'habitude de me mettre beaucoup de pression et euh je pense que c'était plus de pression négative pour moi que autre chose donc là je me sens plus libéré\",\n",
       " 'et euh bon je vais quand même un un rôle important hein mais euh mais je sais pas défini donc ça me va',\n",
       " 'question plus importante',\n",
       " 'qui',\n",
       " \"je pense que c'est skis pour l'instant parce que elle est plus connu du monde va voir ses copains chien des valeurs des basketteurs et tout ça\",\n",
       " 'mais euh mais euh riley commence à se faire un petit nom sur instagram',\n",
       " \"the post souvent il faut le prendre au second degré hein sinon c'est pas euh sinon c'est pas drole mais euh non j espère qu elles pourront être copine un jour quand même parce que c'est pas gagné\"]"
      ]
     },
     "execution_count": 7,
     "metadata": {},
     "output_type": "execute_result"
    }
   ],
   "source": [
    "transcription_vosk(home_dir + \"/audios/\" + \"audio_interview.wav\")"
   ]
  },
  {
   "cell_type": "code",
   "execution_count": null,
   "metadata": {},
   "outputs": [],
   "source": []
  }
 ],
 "metadata": {
  "kernelspec": {
   "display_name": "Python 3",
   "language": "python",
   "name": "python3"
  },
  "language_info": {
   "codemirror_mode": {
    "name": "ipython",
    "version": 3
   },
   "file_extension": ".py",
   "mimetype": "text/x-python",
   "name": "python",
   "nbconvert_exporter": "python",
   "pygments_lexer": "ipython3",
   "version": "3.8.5"
  }
 },
 "nbformat": 4,
 "nbformat_minor": 4
}
