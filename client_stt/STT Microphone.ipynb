{
 "cells": [
  {
   "cell_type": "code",
   "execution_count": null,
   "metadata": {},
   "outputs": [],
   "source": [
    "import argparse\n",
    "import os\n",
    "import queue\n",
    "import sounddevice as sd\n",
    "import vosk\n",
    "import sys"
   ]
  },
  {
   "cell_type": "code",
   "execution_count": null,
   "metadata": {},
   "outputs": [],
   "source": [
    "q = queue.Queue()"
   ]
  },
  {
   "cell_type": "code",
   "execution_count": null,
   "metadata": {},
   "outputs": [],
   "source": [
    "def int_or_str(text):\n",
    "    \"\"\"Helper function for argument parsing.\"\"\"\n",
    "    try:\n",
    "        return int(text)\n",
    "    except ValueError:\n",
    "        return text\n",
    "\n",
    "def callback(indata, frames, time, status):\n",
    "    \"\"\"This is called (from a separate thread) for each audio block.\"\"\"\n",
    "    if status:\n",
    "        print(status, file=sys.stderr)\n",
    "    q.put(bytes(indata))"
   ]
  },
  {
   "cell_type": "code",
   "execution_count": null,
   "metadata": {},
   "outputs": [],
   "source": [
    "parser = argparse.ArgumentParser(add_help=False)\n",
    "parser.add_argument(\n",
    "    '-l', '--list-devices', action='store_true',\n",
    "    help='show list of audio devices and exit')\n",
    "args, remaining = parser.parse_known_args()\n",
    "\n",
    "if args.list_devices:\n",
    "    print(sd.query_devices())\n",
    "    parser.exit(0)\n",
    "    \n",
    "parser = argparse.ArgumentParser(\n",
    "    description=__doc__,\n",
    "    formatter_class=argparse.RawDescriptionHelpFormatter,\n",
    "    parents=[parser])\n",
    "\n",
    "parser.add_argument(\n",
    "    '-f', '--filename', type=str, metavar='FILENAME',\n",
    "    help='audio file to store recording to')\n",
    "\n",
    "parser.add_argument(\n",
    "    '-m', '--model', type=str, metavar='MODEL_PATH',\n",
    "    help='Path to the model')\n",
    "\n",
    "parser.add_argument(\n",
    "    '-d', '--device', type=int_or_str,\n",
    "    help='input device (numeric ID or substring)')\n",
    "\n",
    "parser.add_argument(\n",
    "    '-r', '--samplerate', type=int, help='sampling rate')\n",
    "args = parser.parse_args(remaining)"
   ]
  },
  {
   "cell_type": "code",
   "execution_count": null,
   "metadata": {},
   "outputs": [],
   "source": [
    "try:\n",
    "    if args.model is None:\n",
    "        args.model = \"Vosk_Models/model\"\n",
    "    if not os.path.exists(args.model):\n",
    "        print (\"Please download a model for your language from https://alphacephei.com/vosk/models\")\n",
    "        print (\"and unpack as 'model' in the current folder.\")\n",
    "        parser.exit(0)\n",
    "    if args.samplerate is None:\n",
    "        device_info = sd.query_devices(args.device, 'input')\n",
    "        # soundfile expects an int, sounddevice provides a float:\n",
    "        args.samplerate = int(device_info['default_samplerate'])\n",
    "\n",
    "    model = vosk.Model(args.model)\n",
    "\n",
    "    if args.filename:\n",
    "        dump_fn = open(args.filename, \"wb\")\n",
    "    else:\n",
    "        dump_fn = None\n",
    "\n",
    "    with sd.RawInputStream(samplerate=args.samplerate, blocksize = 8000, device=args.device, dtype='int16',\n",
    "                            channels=1, callback=callback):\n",
    "            print('#' * 80)\n",
    "            print('Press Ctrl+C to stop the recording')\n",
    "            print('#' * 80)\n",
    "\n",
    "            rec = vosk.KaldiRecognizer(model, args.samplerate)\n",
    "            while True:\n",
    "                data = q.get()\n",
    "                if rec.AcceptWaveform(data):\n",
    "                    print(rec.Result())\n",
    "                else:\n",
    "                    print(rec.PartialResult())\n",
    "                if dump_fn is not None:\n",
    "                    dump_fn.write(data)\n",
    "\n",
    "except KeyboardInterrupt:\n",
    "    print('\\nDone')\n",
    "    parser.exit(0)\n",
    "except Exception as e:\n",
    "    parser.exit(type(e).__name__ + ': ' + str(e))"
   ]
  }
 ],
 "metadata": {
  "kernelspec": {
   "display_name": "Python 3",
   "language": "python",
   "name": "python3"
  },
  "language_info": {
   "codemirror_mode": {
    "name": "ipython",
    "version": 3
   },
   "file_extension": ".py",
   "mimetype": "text/x-python",
   "name": "python",
   "nbconvert_exporter": "python",
   "pygments_lexer": "ipython3",
   "version": "3.8.5"
  }
 },
 "nbformat": 4,
 "nbformat_minor": 4
}
